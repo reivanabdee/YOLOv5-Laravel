{
 "cells": [
  {
   "cell_type": "code",
   "execution_count": 1,
   "metadata": {},
   "outputs": [
    {
     "name": "stdout",
     "output_type": "stream",
     "text": [
      "\n",
      " sedang mendeteksi...69-wartono.jpg\n",
      "\n"
     ]
    },
    {
     "name": "stderr",
     "output_type": "stream",
     "text": [
      "/home/xd/Documents/Attendance-Management-System-Using-Face-Recognition-with-YOLOv5/absen.py:34: DeprecationWarning: the imp module is deprecated in favour of importlib and slated for removal in Python 3.12; see the module's documentation for alternative uses\n",
      "  import imp\n",
      "\u001b[34m\u001b[1mabsen: \u001b[0mweights=['last2.pt'], source=sampel/69-wartono.jpg, data=data/coco128.yaml, imgsz=[640, 640], conf_thres=0.25, iou_thres=0.45, max_det=1000, device=, view_img=False, save_txt=False, save_conf=False, save_crop=False, nosave=False, classes=None, agnostic_nms=False, augment=False, visualize=False, update=False, project=runs/detect, name=exp, exist_ok=False, line_thickness=3, hide_labels=False, hide_conf=False, half=False, dnn=False\n",
      "YOLOv5 🚀 0c7fd16 Python-3.10.6 torch-2.0.1+cu117 CPU\n",
      "\n",
      "Fusing layers... \n",
      "Model summary: 157 layers, 7037095 parameters, 0 gradients, 15.8 GFLOPs\n"
     ]
    },
    {
     "name": "stdout",
     "output_type": "stream",
     "text": [
      "ini database-(6,)\n",
      "ini database-(3,)\n",
      "ini entryname-['6']\n",
      "ini entryname[0 ]-6\n",
      "ini entryname-['3']\n",
      "ini entryname[0 ]-3\n"
     ]
    },
    {
     "name": "stderr",
     "output_type": "stream",
     "text": [
      "image 1/1 /home/xd/Documents/Attendance-Management-System-Using-Face-Recognition-with-YOLOv5/sampel/69-wartono.jpg: 640x384 1 wartono, Done. (0.182s)\n",
      "Speed: 0.8ms pre-process, 181.6ms inference, 2.0ms NMS per image at shape (1, 3, 640, 640)\n",
      "Results saved to \u001b[1mruns/detect/exp309\u001b[0m\n",
      "Data absen saved absen.csv\n"
     ]
    },
    {
     "name": "stdout",
     "output_type": "stream",
     "text": [
      "\n",
      " sedang mendeteksi...69-reno.jpg\n",
      "\n"
     ]
    },
    {
     "name": "stderr",
     "output_type": "stream",
     "text": [
      "/home/xd/Documents/Attendance-Management-System-Using-Face-Recognition-with-YOLOv5/absen.py:34: DeprecationWarning: the imp module is deprecated in favour of importlib and slated for removal in Python 3.12; see the module's documentation for alternative uses\n",
      "  import imp\n",
      "\u001b[34m\u001b[1mabsen: \u001b[0mweights=['last2.pt'], source=sampel/69-reno.jpg, data=data/coco128.yaml, imgsz=[640, 640], conf_thres=0.25, iou_thres=0.45, max_det=1000, device=, view_img=False, save_txt=False, save_conf=False, save_crop=False, nosave=False, classes=None, agnostic_nms=False, augment=False, visualize=False, update=False, project=runs/detect, name=exp, exist_ok=False, line_thickness=3, hide_labels=False, hide_conf=False, half=False, dnn=False\n",
      "YOLOv5 🚀 0c7fd16 Python-3.10.6 torch-2.0.1+cu117 CPU\n",
      "\n",
      "Fusing layers... \n",
      "Model summary: 157 layers, 7037095 parameters, 0 gradients, 15.8 GFLOPs\n"
     ]
    },
    {
     "name": "stdout",
     "output_type": "stream",
     "text": [
      "ini database-(6,)\n",
      "ini database-(3,)\n",
      "ini database-(7,)\n",
      "ini entryname-['6']\n",
      "ini entryname[0 ]-6\n",
      "ini entryname-['3']\n",
      "ini entryname[0 ]-3\n",
      "ini entryname-['7']\n",
      "ini entryname[0 ]-7\n"
     ]
    },
    {
     "name": "stderr",
     "output_type": "stream",
     "text": [
      "image 1/1 /home/xd/Documents/Attendance-Management-System-Using-Face-Recognition-with-YOLOv5/sampel/69-reno.jpg: 640x384 1 reno, Done. (0.278s)\n",
      "Speed: 1.6ms pre-process, 278.4ms inference, 2.4ms NMS per image at shape (1, 3, 640, 640)\n",
      "Results saved to \u001b[1mruns/detect/exp310\u001b[0m\n",
      "Data absen saved absen.csv\n"
     ]
    },
    {
     "name": "stdout",
     "output_type": "stream",
     "text": [
      "\n",
      " sedang mendeteksi...69-aso.jpg\n",
      "\n"
     ]
    },
    {
     "name": "stderr",
     "output_type": "stream",
     "text": [
      "/home/xd/Documents/Attendance-Management-System-Using-Face-Recognition-with-YOLOv5/absen.py:34: DeprecationWarning: the imp module is deprecated in favour of importlib and slated for removal in Python 3.12; see the module's documentation for alternative uses\n",
      "  import imp\n",
      "\u001b[34m\u001b[1mabsen: \u001b[0mweights=['last2.pt'], source=sampel/69-aso.jpg, data=data/coco128.yaml, imgsz=[640, 640], conf_thres=0.25, iou_thres=0.45, max_det=1000, device=, view_img=False, save_txt=False, save_conf=False, save_crop=False, nosave=False, classes=None, agnostic_nms=False, augment=False, visualize=False, update=False, project=runs/detect, name=exp, exist_ok=False, line_thickness=3, hide_labels=False, hide_conf=False, half=False, dnn=False\n",
      "YOLOv5 🚀 0c7fd16 Python-3.10.6 torch-2.0.1+cu117 CPU\n",
      "\n",
      "Fusing layers... \n",
      "Model summary: 157 layers, 7037095 parameters, 0 gradients, 15.8 GFLOPs\n"
     ]
    },
    {
     "name": "stdout",
     "output_type": "stream",
     "text": [
      "ini database-(6,)\n",
      "ini database-(3,)\n",
      "ini database-(7,)\n",
      "ini database-(8,)\n",
      "ini entryname-['6']\n",
      "ini entryname[0 ]-6\n",
      "ini entryname-['3']\n",
      "ini entryname[0 ]-3\n",
      "ini entryname-['7']\n",
      "ini entryname[0 ]-7\n",
      "ini entryname-['8']\n",
      "ini entryname[0 ]-8\n"
     ]
    },
    {
     "name": "stderr",
     "output_type": "stream",
     "text": [
      "image 1/1 /home/xd/Documents/Attendance-Management-System-Using-Face-Recognition-with-YOLOv5/sampel/69-aso.jpg: 640x384 1 aso sutarso, Done. (0.337s)\n",
      "Speed: 1.3ms pre-process, 337.1ms inference, 1.0ms NMS per image at shape (1, 3, 640, 640)\n",
      "Results saved to \u001b[1mruns/detect/exp311\u001b[0m\n",
      "Data absen saved absen.csv\n"
     ]
    },
    {
     "name": "stdout",
     "output_type": "stream",
     "text": [
      "\n",
      " sedang mendeteksi...69-ating.jpg\n",
      "\n"
     ]
    },
    {
     "name": "stderr",
     "output_type": "stream",
     "text": [
      "/home/xd/Documents/Attendance-Management-System-Using-Face-Recognition-with-YOLOv5/absen.py:34: DeprecationWarning: the imp module is deprecated in favour of importlib and slated for removal in Python 3.12; see the module's documentation for alternative uses\n",
      "  import imp\n",
      "\u001b[34m\u001b[1mabsen: \u001b[0mweights=['last2.pt'], source=sampel/69-ating.jpg, data=data/coco128.yaml, imgsz=[640, 640], conf_thres=0.25, iou_thres=0.45, max_det=1000, device=, view_img=False, save_txt=False, save_conf=False, save_crop=False, nosave=False, classes=None, agnostic_nms=False, augment=False, visualize=False, update=False, project=runs/detect, name=exp, exist_ok=False, line_thickness=3, hide_labels=False, hide_conf=False, half=False, dnn=False\n",
      "YOLOv5 🚀 0c7fd16 Python-3.10.6 torch-2.0.1+cu117 CPU\n",
      "\n",
      "Fusing layers... \n",
      "Model summary: 157 layers, 7037095 parameters, 0 gradients, 15.8 GFLOPs\n"
     ]
    },
    {
     "name": "stdout",
     "output_type": "stream",
     "text": [
      "ini database-(6,)\n",
      "ini database-(3,)\n",
      "ini database-(7,)\n",
      "ini database-(8,)\n",
      "ini entryname-['6']\n",
      "ini entryname[0 ]-6\n",
      "ini entryname-['3']\n",
      "ini entryname[0 ]-3\n",
      "ini entryname-['7']\n",
      "ini entryname[0 ]-7\n",
      "ini entryname-['8']\n",
      "ini entryname[0 ]-8\n"
     ]
    },
    {
     "name": "stderr",
     "output_type": "stream",
     "text": [
      "image 1/1 /home/xd/Documents/Attendance-Management-System-Using-Face-Recognition-with-YOLOv5/sampel/69-ating.jpg: 640x384 1 ating wahyudin, Done. (0.179s)\n",
      "Speed: 1.1ms pre-process, 179.2ms inference, 1.7ms NMS per image at shape (1, 3, 640, 640)\n",
      "Results saved to \u001b[1mruns/detect/exp312\u001b[0m\n",
      "Data absen saved absen.csv\n"
     ]
    },
    {
     "name": "stdout",
     "output_type": "stream",
     "text": [
      "\n",
      " sedang mendeteksi...69-agus.jpg\n",
      "\n"
     ]
    },
    {
     "name": "stderr",
     "output_type": "stream",
     "text": [
      "/home/xd/Documents/Attendance-Management-System-Using-Face-Recognition-with-YOLOv5/absen.py:34: DeprecationWarning: the imp module is deprecated in favour of importlib and slated for removal in Python 3.12; see the module's documentation for alternative uses\n",
      "  import imp\n",
      "\u001b[34m\u001b[1mabsen: \u001b[0mweights=['last2.pt'], source=sampel/69-agus.jpg, data=data/coco128.yaml, imgsz=[640, 640], conf_thres=0.25, iou_thres=0.45, max_det=1000, device=, view_img=False, save_txt=False, save_conf=False, save_crop=False, nosave=False, classes=None, agnostic_nms=False, augment=False, visualize=False, update=False, project=runs/detect, name=exp, exist_ok=False, line_thickness=3, hide_labels=False, hide_conf=False, half=False, dnn=False\n",
      "YOLOv5 🚀 0c7fd16 Python-3.10.6 torch-2.0.1+cu117 CPU\n",
      "\n",
      "Fusing layers... \n",
      "Model summary: 157 layers, 7037095 parameters, 0 gradients, 15.8 GFLOPs\n"
     ]
    },
    {
     "name": "stdout",
     "output_type": "stream",
     "text": [
      "ini database-(6,)\n",
      "ini database-(3,)\n",
      "ini database-(7,)\n",
      "ini database-(8,)\n",
      "ini database-(4,)\n",
      "ini entryname-['6']\n",
      "ini entryname[0 ]-6\n",
      "ini entryname-['3']\n",
      "ini entryname[0 ]-3\n",
      "ini entryname-['7']\n",
      "ini entryname[0 ]-7\n",
      "ini entryname-['8']\n",
      "ini entryname[0 ]-8\n",
      "ini entryname-['4']\n",
      "ini entryname[0 ]-4\n"
     ]
    },
    {
     "name": "stderr",
     "output_type": "stream",
     "text": [
      "image 1/1 /home/xd/Documents/Attendance-Management-System-Using-Face-Recognition-with-YOLOv5/sampel/69-agus.jpg: 640x384 1 agus wahid, Done. (0.203s)\n",
      "Speed: 1.3ms pre-process, 203.3ms inference, 2.1ms NMS per image at shape (1, 3, 640, 640)\n",
      "Results saved to \u001b[1mruns/detect/exp313\u001b[0m\n",
      "Data absen saved absen.csv\n"
     ]
    },
    {
     "name": "stdout",
     "output_type": "stream",
     "text": [
      "\n",
      " sedang mendeteksi...69-ondi.jpg\n",
      "\n"
     ]
    },
    {
     "name": "stderr",
     "output_type": "stream",
     "text": [
      "/home/xd/Documents/Attendance-Management-System-Using-Face-Recognition-with-YOLOv5/absen.py:34: DeprecationWarning: the imp module is deprecated in favour of importlib and slated for removal in Python 3.12; see the module's documentation for alternative uses\n",
      "  import imp\n",
      "\u001b[34m\u001b[1mabsen: \u001b[0mweights=['last2.pt'], source=sampel/69-ondi.jpg, data=data/coco128.yaml, imgsz=[640, 640], conf_thres=0.25, iou_thres=0.45, max_det=1000, device=, view_img=False, save_txt=False, save_conf=False, save_crop=False, nosave=False, classes=None, agnostic_nms=False, augment=False, visualize=False, update=False, project=runs/detect, name=exp, exist_ok=False, line_thickness=3, hide_labels=False, hide_conf=False, half=False, dnn=False\n",
      "YOLOv5 🚀 0c7fd16 Python-3.10.6 torch-2.0.1+cu117 CPU\n",
      "\n",
      "Fusing layers... \n",
      "Model summary: 157 layers, 7037095 parameters, 0 gradients, 15.8 GFLOPs\n"
     ]
    },
    {
     "name": "stdout",
     "output_type": "stream",
     "text": [
      "ini database-(6,)\n",
      "ini database-(3,)\n",
      "ini database-(7,)\n",
      "ini database-(8,)\n",
      "ini database-(4,)\n",
      "ini entryname-['6']\n",
      "ini entryname[0 ]-6\n",
      "ini entryname-['3']\n",
      "ini entryname[0 ]-3\n",
      "ini entryname-['7']\n",
      "ini entryname[0 ]-7\n",
      "ini entryname-['8']\n",
      "ini entryname[0 ]-8\n",
      "ini entryname-['4']\n",
      "ini entryname[0 ]-4\n"
     ]
    },
    {
     "name": "stderr",
     "output_type": "stream",
     "text": [
      "image 1/1 /home/xd/Documents/Attendance-Management-System-Using-Face-Recognition-with-YOLOv5/sampel/69-ondi.jpg: 640x384 1 ondi agustira, Done. (0.290s)\n",
      "Speed: 3.0ms pre-process, 290.1ms inference, 1.0ms NMS per image at shape (1, 3, 640, 640)\n",
      "Results saved to \u001b[1mruns/detect/exp314\u001b[0m\n",
      "Data absen saved absen.csv\n"
     ]
    },
    {
     "name": "stdout",
     "output_type": "stream",
     "text": [
      "\n",
      " sedang mendeteksi...69-kosim.jpg\n",
      "\n"
     ]
    },
    {
     "name": "stderr",
     "output_type": "stream",
     "text": [
      "/home/xd/Documents/Attendance-Management-System-Using-Face-Recognition-with-YOLOv5/absen.py:34: DeprecationWarning: the imp module is deprecated in favour of importlib and slated for removal in Python 3.12; see the module's documentation for alternative uses\n",
      "  import imp\n",
      "\u001b[34m\u001b[1mabsen: \u001b[0mweights=['last2.pt'], source=sampel/69-kosim.jpg, data=data/coco128.yaml, imgsz=[640, 640], conf_thres=0.25, iou_thres=0.45, max_det=1000, device=, view_img=False, save_txt=False, save_conf=False, save_crop=False, nosave=False, classes=None, agnostic_nms=False, augment=False, visualize=False, update=False, project=runs/detect, name=exp, exist_ok=False, line_thickness=3, hide_labels=False, hide_conf=False, half=False, dnn=False\n",
      "YOLOv5 🚀 0c7fd16 Python-3.10.6 torch-2.0.1+cu117 CPU\n",
      "\n",
      "Fusing layers... \n",
      "Model summary: 157 layers, 7037095 parameters, 0 gradients, 15.8 GFLOPs\n",
      "image 1/1 /home/xd/Documents/Attendance-Management-System-Using-Face-Recognition-with-YOLOv5/sampel/69-kosim.jpg: 640x384 1 aso sutarso, Done. (0.351s)\n",
      "Speed: 2.5ms pre-process, 351.2ms inference, 1.7ms NMS per image at shape (1, 3, 640, 640)\n",
      "Results saved to \u001b[1mruns/detect/exp315\u001b[0m\n",
      "Data absen saved absen.csv\n"
     ]
    },
    {
     "name": "stdout",
     "output_type": "stream",
     "text": [
      "\n",
      " sedang mendeteksi...69-wigi.jpg\n",
      "\n"
     ]
    },
    {
     "name": "stderr",
     "output_type": "stream",
     "text": [
      "/home/xd/Documents/Attendance-Management-System-Using-Face-Recognition-with-YOLOv5/absen.py:34: DeprecationWarning: the imp module is deprecated in favour of importlib and slated for removal in Python 3.12; see the module's documentation for alternative uses\n",
      "  import imp\n",
      "\u001b[34m\u001b[1mabsen: \u001b[0mweights=['last2.pt'], source=sampel/69-wigi.jpg, data=data/coco128.yaml, imgsz=[640, 640], conf_thres=0.25, iou_thres=0.45, max_det=1000, device=, view_img=False, save_txt=False, save_conf=False, save_crop=False, nosave=False, classes=None, agnostic_nms=False, augment=False, visualize=False, update=False, project=runs/detect, name=exp, exist_ok=False, line_thickness=3, hide_labels=False, hide_conf=False, half=False, dnn=False\n",
      "YOLOv5 🚀 0c7fd16 Python-3.10.6 torch-2.0.1+cu117 CPU\n",
      "\n",
      "Fusing layers... \n",
      "Model summary: 157 layers, 7037095 parameters, 0 gradients, 15.8 GFLOPs\n"
     ]
    },
    {
     "name": "stdout",
     "output_type": "stream",
     "text": [
      "ini database-(6,)\n",
      "ini database-(3,)\n",
      "ini database-(7,)\n",
      "ini database-(8,)\n",
      "ini database-(4,)\n",
      "ini database-(0,)\n",
      "ini entryname-['6']\n",
      "ini entryname[0 ]-6\n",
      "ini entryname-['3']\n",
      "ini entryname[0 ]-3\n",
      "ini entryname-['7']\n",
      "ini entryname[0 ]-7\n",
      "ini entryname-['8']\n",
      "ini entryname[0 ]-8\n",
      "ini entryname-['4']\n",
      "ini entryname[0 ]-4\n",
      "ini entryname-['0']\n",
      "ini entryname[0 ]-0\n"
     ]
    },
    {
     "name": "stderr",
     "output_type": "stream",
     "text": [
      "image 1/1 /home/xd/Documents/Attendance-Management-System-Using-Face-Recognition-with-YOLOv5/sampel/69-wigi.jpg: 640x384 1 wigi sri pandi, Done. (0.181s)\n",
      "Speed: 1.0ms pre-process, 181.4ms inference, 1.2ms NMS per image at shape (1, 3, 640, 640)\n",
      "Results saved to \u001b[1mruns/detect/exp316\u001b[0m\n",
      "Data absen saved absen.csv\n"
     ]
    },
    {
     "name": "stdout",
     "output_type": "stream",
     "text": [
      "\n",
      " sedang mendeteksi...69-kandar.jpg\n",
      "\n"
     ]
    },
    {
     "name": "stderr",
     "output_type": "stream",
     "text": [
      "/home/xd/Documents/Attendance-Management-System-Using-Face-Recognition-with-YOLOv5/absen.py:34: DeprecationWarning: the imp module is deprecated in favour of importlib and slated for removal in Python 3.12; see the module's documentation for alternative uses\n",
      "  import imp\n",
      "\u001b[34m\u001b[1mabsen: \u001b[0mweights=['last2.pt'], source=sampel/69-kandar.jpg, data=data/coco128.yaml, imgsz=[640, 640], conf_thres=0.25, iou_thres=0.45, max_det=1000, device=, view_img=False, save_txt=False, save_conf=False, save_crop=False, nosave=False, classes=None, agnostic_nms=False, augment=False, visualize=False, update=False, project=runs/detect, name=exp, exist_ok=False, line_thickness=3, hide_labels=False, hide_conf=False, half=False, dnn=False\n",
      "YOLOv5 🚀 0c7fd16 Python-3.10.6 torch-2.0.1+cu117 CPU\n",
      "\n",
      "Fusing layers... \n",
      "Model summary: 157 layers, 7037095 parameters, 0 gradients, 15.8 GFLOPs\n"
     ]
    },
    {
     "name": "stdout",
     "output_type": "stream",
     "text": [
      "ini database-(6,)\n",
      "ini database-(3,)\n",
      "ini database-(7,)\n",
      "ini database-(8,)\n",
      "ini database-(4,)\n",
      "ini database-(0,)\n",
      "ini database-(2,)\n",
      "ini entryname-['6']\n",
      "ini entryname[0 ]-6\n",
      "ini entryname-['3']\n",
      "ini entryname[0 ]-3\n",
      "ini entryname-['7']\n",
      "ini entryname[0 ]-7\n",
      "ini entryname-['8']\n",
      "ini entryname[0 ]-8\n",
      "ini entryname-['4']\n",
      "ini entryname[0 ]-4\n",
      "ini entryname-['0']\n",
      "ini entryname[0 ]-0\n",
      "ini entryname-['2']\n",
      "ini entryname[0 ]-2\n"
     ]
    },
    {
     "name": "stderr",
     "output_type": "stream",
     "text": [
      "image 1/1 /home/xd/Documents/Attendance-Management-System-Using-Face-Recognition-with-YOLOv5/sampel/69-kandar.jpg: 640x384 1 kandar, Done. (0.209s)\n",
      "Speed: 0.9ms pre-process, 209.3ms inference, 2.0ms NMS per image at shape (1, 3, 640, 640)\n",
      "Results saved to \u001b[1mruns/detect/exp317\u001b[0m\n",
      "Data absen saved absen.csv\n"
     ]
    },
    {
     "name": "stdout",
     "output_type": "stream",
     "text": [
      "\n",
      " sedang mendeteksi...69-aminudin.jpg\n",
      "\n"
     ]
    },
    {
     "name": "stderr",
     "output_type": "stream",
     "text": [
      "/home/xd/Documents/Attendance-Management-System-Using-Face-Recognition-with-YOLOv5/absen.py:34: DeprecationWarning: the imp module is deprecated in favour of importlib and slated for removal in Python 3.12; see the module's documentation for alternative uses\n",
      "  import imp\n",
      "\u001b[34m\u001b[1mabsen: \u001b[0mweights=['last2.pt'], source=sampel/69-aminudin.jpg, data=data/coco128.yaml, imgsz=[640, 640], conf_thres=0.25, iou_thres=0.45, max_det=1000, device=, view_img=False, save_txt=False, save_conf=False, save_crop=False, nosave=False, classes=None, agnostic_nms=False, augment=False, visualize=False, update=False, project=runs/detect, name=exp, exist_ok=False, line_thickness=3, hide_labels=False, hide_conf=False, half=False, dnn=False\n",
      "YOLOv5 🚀 0c7fd16 Python-3.10.6 torch-2.0.1+cu117 CPU\n",
      "\n",
      "Fusing layers... \n",
      "Model summary: 157 layers, 7037095 parameters, 0 gradients, 15.8 GFLOPs\n"
     ]
    },
    {
     "name": "stdout",
     "output_type": "stream",
     "text": [
      "ini database-(6,)\n",
      "ini database-(3,)\n",
      "ini database-(7,)\n",
      "ini database-(8,)\n",
      "ini database-(4,)\n",
      "ini database-(0,)\n",
      "ini database-(2,)\n",
      "ini database-(1,)\n",
      "ini entryname-['6']\n",
      "ini entryname[0 ]-6\n",
      "ini entryname-['3']\n",
      "ini entryname[0 ]-3\n",
      "ini entryname-['7']\n",
      "ini entryname[0 ]-7\n",
      "ini entryname-['8']\n",
      "ini entryname[0 ]-8\n",
      "ini entryname-['4']\n",
      "ini entryname[0 ]-4\n",
      "ini entryname-['0']\n",
      "ini entryname[0 ]-0\n",
      "ini entryname-['2']\n",
      "ini entryname[0 ]-2\n",
      "ini entryname-['1']\n",
      "ini entryname[0 ]-1\n"
     ]
    },
    {
     "name": "stderr",
     "output_type": "stream",
     "text": [
      "image 1/1 /home/xd/Documents/Attendance-Management-System-Using-Face-Recognition-with-YOLOv5/sampel/69-aminudin.jpg: 640x384 1 aminudin, Done. (0.387s)\n",
      "Speed: 0.9ms pre-process, 387.4ms inference, 1.1ms NMS per image at shape (1, 3, 640, 640)\n",
      "Results saved to \u001b[1mruns/detect/exp318\u001b[0m\n",
      "Data absen saved absen.csv\n"
     ]
    }
   ],
   "source": [
    "import os\n",
    "\n",
    "file='/home/xd/Documents/Attendance-Management-System-Using-Face-Recognition-with-YOLOv5/sampel'\n",
    "for i in os.listdir(file):\n",
    "    print(f\"\\n sedang mendeteksi...{i}\\n\")\n",
    "    os.system(f\"python3 absen.py --source sampel/{i} --weight last2.pt\")\n",
    "    "
   ]
  },
  {
   "cell_type": "code",
   "execution_count": 5,
   "metadata": {},
   "outputs": [
    {
     "name": "stderr",
     "output_type": "stream",
     "text": [
      "/home/xd/Documents/Attendance-Management-System-Using-Face-Recognition-with-YOLOv5/absen.py:34: DeprecationWarning: the imp module is deprecated in favour of importlib and slated for removal in Python 3.12; see the module's documentation for alternative uses\n",
      "  import imp\n",
      "\u001b[34m\u001b[1mabsen: \u001b[0mweights=yolov5s.pt, source=data/images, data=data/coco128.yaml, imgsz=[640, 640], conf_thres=0.25, iou_thres=0.45, max_det=1000, device=, view_img=False, save_txt=False, save_conf=False, save_crop=False, nosave=False, classes=None, agnostic_nms=False, augment=False, visualize=False, update=False, project=runs/detect, name=exp, exist_ok=False, line_thickness=3, hide_labels=False, hide_conf=False, half=False, dnn=False\n",
      "YOLOv5 🚀 0c7fd16 Python-3.10.6 torch-2.0.1+cu117 CPU\n",
      "\n",
      "Fusing layers... \n",
      "YOLOv5s summary: 213 layers, 7225885 parameters, 0 gradients\n",
      "image 1/4 /home/xd/Documents/Attendance-Management-System-Using-Face-Recognition-with-YOLOv5/data/images/bus(1).jpg: 640x480 4 persons, 1 bus, Done. (0.465s)\n",
      "image 2/4 /home/xd/Documents/Attendance-Management-System-Using-Face-Recognition-with-YOLOv5/data/images/bus.jpg: 640x480 4 persons, 1 bus, Done. (0.442s)\n",
      "image 3/4 /home/xd/Documents/Attendance-Management-System-Using-Face-Recognition-with-YOLOv5/data/images/zidane(1).jpg: 384x640 2 persons, 2 ties, Done. (0.367s)\n",
      "image 4/4 /home/xd/Documents/Attendance-Management-System-Using-Face-Recognition-with-YOLOv5/data/images/zidane.jpg: 384x640 2 persons, 2 ties, Done. (0.310s)\n",
      "Speed: 1.9ms pre-process, 396.1ms inference, 5.8ms NMS per image at shape (1, 3, 640, 640)\n",
      "Results saved to \u001b[1mruns/detect/exp237\u001b[0m\n",
      "Data absen saved absen.csv\n"
     ]
    },
    {
     "data": {
      "text/plain": [
       "0"
      ]
     },
     "execution_count": 5,
     "metadata": {},
     "output_type": "execute_result"
    }
   ],
   "source": [
    "os.system(\"python3 absen.py\")"
   ]
  },
  {
   "cell_type": "code",
   "execution_count": null,
   "metadata": {},
   "outputs": [],
   "source": []
  }
 ],
 "metadata": {
  "kernelspec": {
   "display_name": "Python 3",
   "language": "python",
   "name": "python3"
  },
  "language_info": {
   "codemirror_mode": {
    "name": "ipython",
    "version": 3
   },
   "file_extension": ".py",
   "mimetype": "text/x-python",
   "name": "python",
   "nbconvert_exporter": "python",
   "pygments_lexer": "ipython3",
   "version": "3.10.6"
  },
  "orig_nbformat": 4
 },
 "nbformat": 4,
 "nbformat_minor": 2
}
